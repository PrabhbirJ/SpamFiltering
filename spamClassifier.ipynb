{
 "cells": [
  {
   "cell_type": "markdown",
   "id": "3f4f23ea",
   "metadata": {},
   "source": [
    "ANN MODEL"
   ]
  },
  {
   "cell_type": "code",
   "execution_count": 1,
   "id": "ecb4a328-498c-4e88-b6d0-cdca23091129",
   "metadata": {},
   "outputs": [],
   "source": [
    "import pandas as pd\n",
    "%matplotlib inline\n",
    "import numpy as np\n",
    "import pandas as pd\n",
    "import matplotlib.pyplot as plt\n",
    "import seaborn as sns\n",
    "import sklearn\n",
    "import nltk#for text wrangling\n",
    "import spacy#for text wrangling\n",
    "import re\n",
    "import contractions\n",
    "from nltk.stem import WordNetLemmatizer\n",
    "from nltk.corpus import stopwords\n",
    "import torch\n",
    "from torch import nn\n",
    "import torch.nn.functional as F\n",
    "import torch.optim as optim\n"
   ]
  },
  {
   "cell_type": "code",
   "execution_count": 2,
   "id": "5eef3552-dd72-4f0c-a096-87534e0afe7d",
   "metadata": {},
   "outputs": [],
   "source": [
    "df = pd.read_csv(\"dataset.csv\")\n",
    "df_shuffled = df.sample(frac=1, random_state=42).reset_index(drop=True)"
   ]
  },
  {
   "cell_type": "code",
   "execution_count": 3,
   "id": "b2e7da4d-6c79-4013-9a7d-4052aadd4e56",
   "metadata": {},
   "outputs": [
    {
     "data": {
      "text/plain": [
       "label\n",
       "ham     14337\n",
       "spam     6011\n",
       "Name: count, dtype: int64"
      ]
     },
     "execution_count": 3,
     "metadata": {},
     "output_type": "execute_result"
    }
   ],
   "source": [
    "df.label.value_counts()"
   ]
  },
  {
   "cell_type": "code",
   "execution_count": 4,
   "id": "f12b617d-26f2-42ad-9009-52ddcd3506a5",
   "metadata": {},
   "outputs": [],
   "source": [
    "df.dropna(inplace = True)\n"
   ]
  },
  {
   "cell_type": "code",
   "execution_count": 5,
   "id": "3ebd953c-5dfe-46d6-9950-fa266133eaeb",
   "metadata": {},
   "outputs": [
    {
     "data": {
      "text/html": [
       "<div>\n",
       "<style scoped>\n",
       "    .dataframe tbody tr th:only-of-type {\n",
       "        vertical-align: middle;\n",
       "    }\n",
       "\n",
       "    .dataframe tbody tr th {\n",
       "        vertical-align: top;\n",
       "    }\n",
       "\n",
       "    .dataframe thead th {\n",
       "        text-align: right;\n",
       "    }\n",
       "</style>\n",
       "<table border=\"1\" class=\"dataframe\">\n",
       "  <thead>\n",
       "    <tr style=\"text-align: right;\">\n",
       "      <th></th>\n",
       "      <th>label</th>\n",
       "      <th>text</th>\n",
       "    </tr>\n",
       "  </thead>\n",
       "  <tbody>\n",
       "    <tr>\n",
       "      <th>0</th>\n",
       "      <td>spam</td>\n",
       "      <td>naturally irresistible your corporate identity...</td>\n",
       "    </tr>\n",
       "    <tr>\n",
       "      <th>1</th>\n",
       "      <td>spam</td>\n",
       "      <td>the stock trading gunslinger fanny is merrill ...</td>\n",
       "    </tr>\n",
       "    <tr>\n",
       "      <th>2</th>\n",
       "      <td>spam</td>\n",
       "      <td>unbelievable new homes made easy im wanting to...</td>\n",
       "    </tr>\n",
       "    <tr>\n",
       "      <th>3</th>\n",
       "      <td>spam</td>\n",
       "      <td>4 color printing special request additional in...</td>\n",
       "    </tr>\n",
       "    <tr>\n",
       "      <th>4</th>\n",
       "      <td>spam</td>\n",
       "      <td>do not have money get software cds from here s...</td>\n",
       "    </tr>\n",
       "    <tr>\n",
       "      <th>...</th>\n",
       "      <td>...</td>\n",
       "      <td>...</td>\n",
       "    </tr>\n",
       "    <tr>\n",
       "      <th>20343</th>\n",
       "      <td>ham</td>\n",
       "      <td>/ban</td>\n",
       "    </tr>\n",
       "    <tr>\n",
       "      <th>20344</th>\n",
       "      <td>ham</td>\n",
       "      <td>/ban</td>\n",
       "    </tr>\n",
       "    <tr>\n",
       "      <th>20345</th>\n",
       "      <td>ham</td>\n",
       "      <td>/ban</td>\n",
       "    </tr>\n",
       "    <tr>\n",
       "      <th>20346</th>\n",
       "      <td>ham</td>\n",
       "      <td>Kaisi hii</td>\n",
       "    </tr>\n",
       "    <tr>\n",
       "      <th>20347</th>\n",
       "      <td>ham</td>\n",
       "      <td>Shock q</td>\n",
       "    </tr>\n",
       "  </tbody>\n",
       "</table>\n",
       "<p>20348 rows × 2 columns</p>\n",
       "</div>"
      ],
      "text/plain": [
       "      label                                               text\n",
       "0      spam  naturally irresistible your corporate identity...\n",
       "1      spam  the stock trading gunslinger fanny is merrill ...\n",
       "2      spam  unbelievable new homes made easy im wanting to...\n",
       "3      spam  4 color printing special request additional in...\n",
       "4      spam  do not have money get software cds from here s...\n",
       "...     ...                                                ...\n",
       "20343   ham                                               /ban\n",
       "20344   ham                                               /ban\n",
       "20345   ham                                               /ban\n",
       "20346   ham                                          Kaisi hii\n",
       "20347   ham                                            Shock q\n",
       "\n",
       "[20348 rows x 2 columns]"
      ]
     },
     "execution_count": 5,
     "metadata": {},
     "output_type": "execute_result"
    }
   ],
   "source": [
    "df"
   ]
  },
  {
   "cell_type": "code",
   "execution_count": 6,
   "id": "cf593cac-a487-4e8c-b0de-0dc9e1935096",
   "metadata": {},
   "outputs": [
    {
     "data": {
      "text/plain": [
       "20348"
      ]
     },
     "execution_count": 6,
     "metadata": {},
     "output_type": "execute_result"
    }
   ],
   "source": [
    "sum(df.text.notna())\n",
    "#there is no null category as well as no null message so we dont need to handle that."
   ]
  },
  {
   "cell_type": "code",
   "execution_count": 7,
   "id": "8714753b-f3b3-4dc5-b275-4308be38c6ae",
   "metadata": {},
   "outputs": [],
   "source": [
    "X = df['text']\n",
    "Y = df['label']"
   ]
  },
  {
   "cell_type": "code",
   "execution_count": 8,
   "id": "9d164ffc-1fe6-4a6e-a6b2-17c36fde2df7",
   "metadata": {},
   "outputs": [],
   "source": [
    "STOPWORDS = stopwords.words(\"english\")"
   ]
  },
  {
   "cell_type": "code",
   "execution_count": 9,
   "id": "e3238534-3852-4573-b4e7-bc20f3fa6330",
   "metadata": {},
   "outputs": [
    {
     "name": "stderr",
     "output_type": "stream",
     "text": [
      "20348it [00:30, 659.38it/s] \n"
     ]
    }
   ],
   "source": [
    "import spacy\n",
    "from tqdm import tqdm\n",
    "import pandas as pd\n",
    "from spacy.lang.en.stop_words import STOP_WORDS as SPACY_STOPWORDS\n",
    "\n",
    "# Load spaCy with minimal components, and enable multi-core processing\n",
    "nlp = spacy.load(\"en_core_web_sm\", disable=[\"ner\", \"parser\",\"entity_linker\"])\n",
    "\n",
    "# Custom preprocessing function that works on a list of texts\n",
    "def text_preprocess(texts, batch_size=1000, n_process=4):\n",
    "    cleaned = []\n",
    "\n",
    "    for doc in tqdm(nlp.pipe(texts, batch_size=batch_size, n_process=n_process)):\n",
    "        tokens = [\n",
    "            token.lemma_.lower() for token in doc\n",
    "            if token.lemma_ != \"-PRON-\"\n",
    "            and token.lemma_.lower() not in SPACY_STOPWORDS\n",
    "            and not token.is_space\n",
    "            and not token.is_punct\n",
    "        ]\n",
    "        cleaned.append(\" \".join(tokens))\n",
    "    \n",
    "    return cleaned\n",
    "\n",
    "\n",
    "X_cleaned = pd.Series(text_preprocess(X.tolist()))\n"
   ]
  },
  {
   "cell_type": "code",
   "execution_count": 10,
   "id": "9bd41b2f-8bcd-4d1c-ba58-6831d8dde7ae",
   "metadata": {},
   "outputs": [],
   "source": [
    "from sklearn.feature_extraction.text import TfidfVectorizer\n",
    "from sklearn.model_selection import train_test_split\n"
   ]
  },
  {
   "cell_type": "code",
   "execution_count": 11,
   "id": "19a44b3c-2271-4383-b7c1-389510d628ed",
   "metadata": {},
   "outputs": [],
   "source": [
    "X_train, X_test, y_train, y_test = train_test_split(\n",
    "    X_cleaned, Y, test_size=0.3, random_state=42, stratify=Y\n",
    ")\n",
    "\n",
    "# Optional but safer\n",
    "X_train = X_train.reset_index(drop=True)\n",
    "X_test = X_test.reset_index(drop=True)\n",
    "y_train = y_train.reset_index(drop=True)\n",
    "y_test = y_test.reset_index(drop=True)"
   ]
  },
  {
   "cell_type": "code",
   "execution_count": 12,
   "id": "67171bf7-9cef-40eb-9970-a47774780873",
   "metadata": {},
   "outputs": [],
   "source": [
    "from sklearn.feature_extraction.text import CountVectorizer, TfidfTransformer\n",
    "from sklearn.pipeline import Pipeline\n",
    "from joblib import parallel_backend\n",
    "\n",
    "# CountVectorizer is a bit faster and lets us control preprocessing\n",
    "count_vectorizer = CountVectorizer(\n",
    "    ngram_range=(1, 2),\n",
    "    min_df=5,\n",
    "    max_df=0.95,\n",
    "    max_features=20000,\n",
    "    lowercase=False\n",
    ")\n",
    "\n",
    "tfidf_transformer = TfidfTransformer()\n",
    "\n",
    "pipeline = Pipeline([\n",
    "    ('vect', count_vectorizer),\n",
    "    ('tfidf', tfidf_transformer)\n",
    "])\n",
    "\n",
    "with parallel_backend('loky', n_jobs=3):  # Use all cores\n",
    "    X_enc = pipeline.fit_transform(X_train)\n",
    "    X_test_enc = pipeline.transform(X_test)"
   ]
  },
  {
   "cell_type": "code",
   "execution_count": 13,
   "id": "82e938c7-507a-48b7-8c1f-55a40334cfb4",
   "metadata": {},
   "outputs": [],
   "source": [
    "X_dense = X_enc.toarray()"
   ]
  },
  {
   "cell_type": "code",
   "execution_count": 14,
   "id": "998bdaf4-3382-45bd-9871-8314a6fa1348",
   "metadata": {},
   "outputs": [
    {
     "name": "stdout",
     "output_type": "stream",
     "text": [
      "Computed class weights: {'ham': 0.7096661684105631, 'spam': 1.6923716730038023}\n"
     ]
    }
   ],
   "source": [
    "from sklearn.utils import class_weight\n",
    "import numpy as np\n",
    "\n",
    "y_train_enc = np.array(y_train)  # Just to be safe\n",
    "\n",
    "class_weights = class_weight.compute_class_weight(\n",
    "    class_weight='balanced',\n",
    "    classes=np.unique(y_train),\n",
    "    y=y_train_enc\n",
    ")\n",
    "\n",
    "class_weight_dict = dict(zip(np.unique(y_train), class_weights))\n",
    "print(\"Computed class weights:\", class_weight_dict)"
   ]
  },
  {
   "cell_type": "code",
   "execution_count": 15,
   "id": "7475b731-413e-4ae7-a309-ebb9192bad4d",
   "metadata": {},
   "outputs": [],
   "source": [
    "from sklearn.preprocessing import LabelEncoder\n",
    "\n",
    "# Initialize and fit encoder\n",
    "le = LabelEncoder()\n",
    "\n",
    "# Transform text labels to integers\n",
    "y_train = le.fit_transform(y_train)\n",
    "\n",
    "# Optional: encode y_test too if needed later\n",
    "y_test = le.transform(y_test)\n"
   ]
  },
  {
   "cell_type": "code",
   "execution_count": 22,
   "id": "59633a9e-7b63-47c1-9777-d3e4e9cfef1f",
   "metadata": {},
   "outputs": [],
   "source": [
    "from gensim.models import Word2Vec\n",
    "import pandas as pd\n",
    "tokenized_corpus = [text.split() for text in X_train]\n",
    "# Tokenize the training data\n",
    "\n",
    "# Train Word2Vec model\n",
    "w2v_model = Word2Vec(\n",
    "    sentences=tokenized_corpus,\n",
    "    vector_size=150,      # You can increase this (e.g., 200, 300)\n",
    "    window=6,             # Context window size\n",
    "    min_count=2,          # Ignore rare words\n",
    "    workers=5,            # Cores for training\n",
    "    sg=1,                 # Use skip-gram; CBOW = 0\n",
    "    epochs=30             # More is better for smaller datasets\n",
    ")\n",
    "w2v_model.save(\"word2vec.model\")"
   ]
  },
  {
   "cell_type": "code",
   "execution_count": null,
   "id": "97eb8aa7-9e25-4312-9d27-a1ad6d0419b6",
   "metadata": {},
   "outputs": [],
   "source": []
  },
  {
   "cell_type": "code",
   "execution_count": 25,
   "id": "80a54c85-3883-4a77-b8df-7f9a015f3192",
   "metadata": {},
   "outputs": [],
   "source": [
    "from collections import defaultdict\n",
    "import numpy as np\n",
    "import math\n",
    "\n",
    "def compute_idf(tokenized_corpus):\n",
    "    \"\"\"Compute IDF dictionary for a tokenized corpus.\"\"\"\n",
    "    N = len(tokenized_corpus)\n",
    "    df = defaultdict(int)\n",
    "\n",
    "    for doc in tokenized_corpus:\n",
    "        unique_tokens = set(doc)\n",
    "        for token in unique_tokens:\n",
    "            df[token] += 1\n",
    "\n",
    "    idf_dict = {}\n",
    "    for word, freq in df.items():\n",
    "        idf_dict[word] = math.log((N + 1) / (freq + 1)) + 1  # Smooth IDF\n",
    "\n",
    "    return idf_dict\n",
    "\n",
    "def get_tfidf_weighted_w2v(tokens_list, model, idf, k=150):\n",
    "    vectors = []\n",
    "    for tokens in tokens_list:\n",
    "        vecs = []\n",
    "        for word in tokens:\n",
    "            if word in model.wv:\n",
    "                weight = idf.get(word, 1.0)\n",
    "                vecs.append(weight * model.wv[word])\n",
    "        if vecs:\n",
    "            vectors.append(np.mean(vecs, axis=0))\n",
    "        else:\n",
    "            vectors.append(np.zeros(k))\n",
    "    return np.vstack(vectors)\n",
    "\n",
    "X_train_tokens = [text.split() for text in X_train]\n",
    "X_test_tokens = [text.split() for text in X_test]\n",
    "idf_dict = compute_idf(X_train_tokens)\n",
    "X_train_vecs = get_tfidf_weighted_w2v(X_train_tokens, w2v_model, idf_dict, k=150)\n",
    "X_test_vecs = get_tfidf_weighted_w2v(X_test_tokens, w2v_model, idf_dict, k=150)"
   ]
  },
  {
   "cell_type": "code",
   "execution_count": 100,
   "id": "0bf0a5df-7e3c-4cab-af56-d09acc340be4",
   "metadata": {},
   "outputs": [],
   "source": [
    "import tensorflow as tf\n",
    "from tensorflow.keras.utils import register_keras_serializable\n",
    "\n",
    "# 1. Define the Focal Loss Function\n",
    "@register_keras_serializable(package=\"Custom\", name=\"focal_loss_fixed\")\n",
    "def focal_loss_fixed(y_true, y_pred, gamma=2.0, alpha=0.25):\n",
    "    \"\"\"\n",
    "    Focal loss function.\n",
    "    Args:\n",
    "        y_true: Ground truth labels (tensor of shape (batch_size, num_classes)).\n",
    "        y_pred: Predicted probabilities (tensor of shape (batch_size, num_classes)).\n",
    "        gamma: Focusing parameter to reduce the relative loss for well-classified examples.\n",
    "        alpha: Weighting factor to balance the importance of positive and negative examples.\n",
    "    Returns:\n",
    "        A scalar tensor representing the mean focal loss.\n",
    "    \"\"\"\n",
    "    # Ensure y_true and y_pred are of the same data type\n",
    "    y_true = tf.cast(y_true, dtype=tf.float32)\n",
    "    y_pred = tf.cast(y_pred, dtype=tf.float32)\n",
    "    bce = tf.keras.backend.binary_crossentropy(y_true, y_pred)\n",
    "    p_t = y_true * y_pred + (1 - y_true) * (1 - y_pred)\n",
    "    loss = alpha * tf.keras.backend.pow((1 - p_t), gamma) * bce\n",
    "    return tf.keras.backend.mean(loss)\n",
    "\n",
    "# 2. Wrapper for Parameterization with proper serialization\n",
    "@register_keras_serializable(package=\"Custom\", name=\"focal_loss\")\n",
    "def focal_loss(gamma=2.0, alpha=0.25):\n",
    "    \"\"\"\n",
    "    A wrapper function to allow you to specify the gamma and alpha\n",
    "    parameters when using the loss.\n",
    "    \"\"\"\n",
    "    @register_keras_serializable(package=\"Custom\", name=\"focal_loss_fn\")\n",
    "    def focal_loss_fn(y_true, y_pred):\n",
    "        return focal_loss_fixed(y_true, y_pred, gamma=gamma, alpha=alpha)\n",
    "    \n",
    "    # These attributes help with serialization\n",
    "    focal_loss_fn.__name__ = \"focal_loss_fn\"\n",
    "    focal_loss_fn._uses_gamma = gamma  # Store parameters as attributes\n",
    "    focal_loss_fn._uses_alpha = alpha\n",
    "    \n",
    "    return focal_loss_fn"
   ]
  },
  {
   "cell_type": "code",
   "execution_count": 101,
   "id": "f2f13366-62b7-45b5-badf-311f1364ef3e",
   "metadata": {},
   "outputs": [
    {
     "name": "stdout",
     "output_type": "stream",
     "text": [
      "Epoch 1/25\n",
      "\u001b[1m90/90\u001b[0m \u001b[32m━━━━━━━━━━━━━━━━━━━━\u001b[0m\u001b[37m\u001b[0m \u001b[1m1s\u001b[0m 4ms/step - accuracy: 0.7232 - auc_16: 0.7784 - loss: 0.0616 - precision_16: 0.5328 - recall_16: 0.6983 - val_accuracy: 0.9105 - val_auc_16: 0.9640 - val_loss: 0.0246 - val_precision_16: 0.8002 - val_recall_16: 0.9301 - learning_rate: 5.0000e-04\n",
      "Epoch 2/25\n",
      "\u001b[1m90/90\u001b[0m \u001b[32m━━━━━━━━━━━━━━━━━━━━\u001b[0m\u001b[37m\u001b[0m \u001b[1m0s\u001b[0m 2ms/step - accuracy: 0.8695 - auc_16: 0.9253 - loss: 0.0283 - precision_16: 0.7745 - recall_16: 0.7841 - val_accuracy: 0.9280 - val_auc_16: 0.9719 - val_loss: 0.0176 - val_precision_16: 0.8594 - val_recall_16: 0.9052 - learning_rate: 5.0000e-04\n",
      "Epoch 3/25\n",
      "\u001b[1m90/90\u001b[0m \u001b[32m━━━━━━━━━━━━━━━━━━━━\u001b[0m\u001b[37m\u001b[0m \u001b[1m0s\u001b[0m 2ms/step - accuracy: 0.8985 - auc_16: 0.9499 - loss: 0.0221 - precision_16: 0.8397 - recall_16: 0.8104 - val_accuracy: 0.9358 - val_auc_16: 0.9738 - val_loss: 0.0159 - val_precision_16: 0.8865 - val_recall_16: 0.8981 - learning_rate: 5.0000e-04\n",
      "Epoch 4/25\n",
      "\u001b[1m90/90\u001b[0m \u001b[32m━━━━━━━━━━━━━━━━━━━━\u001b[0m\u001b[37m\u001b[0m \u001b[1m0s\u001b[0m 2ms/step - accuracy: 0.9117 - auc_16: 0.9614 - loss: 0.0193 - precision_16: 0.8615 - recall_16: 0.8292 - val_accuracy: 0.9410 - val_auc_16: 0.9768 - val_loss: 0.0140 - val_precision_16: 0.9082 - val_recall_16: 0.8910 - learning_rate: 5.0000e-04\n",
      "Epoch 5/25\n",
      "\u001b[1m90/90\u001b[0m \u001b[32m━━━━━━━━━━━━━━━━━━━━\u001b[0m\u001b[37m\u001b[0m \u001b[1m0s\u001b[0m 2ms/step - accuracy: 0.9125 - auc_16: 0.9623 - loss: 0.0185 - precision_16: 0.8586 - recall_16: 0.8394 - val_accuracy: 0.9410 - val_auc_16: 0.9786 - val_loss: 0.0140 - val_precision_16: 0.8894 - val_recall_16: 0.9147 - learning_rate: 5.0000e-04\n",
      "Epoch 6/25\n",
      "\u001b[1m90/90\u001b[0m \u001b[32m━━━━━━━━━━━━━━━━━━━━\u001b[0m\u001b[37m\u001b[0m \u001b[1m0s\u001b[0m 2ms/step - accuracy: 0.9294 - auc_16: 0.9727 - loss: 0.0158 - precision_16: 0.8935 - recall_16: 0.8625 - val_accuracy: 0.9417 - val_auc_16: 0.9803 - val_loss: 0.0129 - val_precision_16: 0.9324 - val_recall_16: 0.8661 - learning_rate: 5.0000e-04\n",
      "Epoch 7/25\n",
      "\u001b[1m90/90\u001b[0m \u001b[32m━━━━━━━━━━━━━━━━━━━━\u001b[0m\u001b[37m\u001b[0m \u001b[1m0s\u001b[0m 2ms/step - accuracy: 0.9333 - auc_16: 0.9767 - loss: 0.0144 - precision_16: 0.9010 - recall_16: 0.8693 - val_accuracy: 0.9445 - val_auc_16: 0.9813 - val_loss: 0.0125 - val_precision_16: 0.9183 - val_recall_16: 0.8922 - learning_rate: 5.0000e-04\n",
      "Epoch 8/25\n",
      "\u001b[1m90/90\u001b[0m \u001b[32m━━━━━━━━━━━━━━━━━━━━\u001b[0m\u001b[37m\u001b[0m \u001b[1m0s\u001b[0m 2ms/step - accuracy: 0.9363 - auc_16: 0.9785 - loss: 0.0140 - precision_16: 0.9017 - recall_16: 0.8816 - val_accuracy: 0.9470 - val_auc_16: 0.9820 - val_loss: 0.0122 - val_precision_16: 0.9210 - val_recall_16: 0.8981 - learning_rate: 5.0000e-04\n",
      "Epoch 9/25\n",
      "\u001b[1m90/90\u001b[0m \u001b[32m━━━━━━━━━━━━━━━━━━━━\u001b[0m\u001b[37m\u001b[0m \u001b[1m0s\u001b[0m 2ms/step - accuracy: 0.9424 - auc_16: 0.9824 - loss: 0.0126 - precision_16: 0.9107 - recall_16: 0.8918 - val_accuracy: 0.9481 - val_auc_16: 0.9822 - val_loss: 0.0121 - val_precision_16: 0.9372 - val_recall_16: 0.8839 - learning_rate: 5.0000e-04\n",
      "Epoch 10/25\n",
      "\u001b[1m90/90\u001b[0m \u001b[32m━━━━━━━━━━━━━━━━━━━━\u001b[0m\u001b[37m\u001b[0m \u001b[1m0s\u001b[0m 2ms/step - accuracy: 0.9382 - auc_16: 0.9810 - loss: 0.0131 - precision_16: 0.9205 - recall_16: 0.8665 - val_accuracy: 0.9502 - val_auc_16: 0.9823 - val_loss: 0.0120 - val_precision_16: 0.9410 - val_recall_16: 0.8874 - learning_rate: 5.0000e-04\n",
      "Epoch 11/25\n",
      "\u001b[1m90/90\u001b[0m \u001b[32m━━━━━━━━━━━━━━━━━━━━\u001b[0m\u001b[37m\u001b[0m \u001b[1m0s\u001b[0m 2ms/step - accuracy: 0.9516 - auc_16: 0.9854 - loss: 0.0112 - precision_16: 0.9274 - recall_16: 0.9062 - val_accuracy: 0.9547 - val_auc_16: 0.9826 - val_loss: 0.0117 - val_precision_16: 0.9354 - val_recall_16: 0.9100 - learning_rate: 5.0000e-04\n",
      "Epoch 12/25\n",
      "\u001b[1m90/90\u001b[0m \u001b[32m━━━━━━━━━━━━━━━━━━━━\u001b[0m\u001b[37m\u001b[0m \u001b[1m0s\u001b[0m 2ms/step - accuracy: 0.9426 - auc_16: 0.9846 - loss: 0.0117 - precision_16: 0.9172 - recall_16: 0.8873 - val_accuracy: 0.9540 - val_auc_16: 0.9828 - val_loss: 0.0118 - val_precision_16: 0.9440 - val_recall_16: 0.8981 - learning_rate: 5.0000e-04\n",
      "Epoch 13/25\n",
      "\u001b[1m90/90\u001b[0m \u001b[32m━━━━━━━━━━━━━━━━━━━━\u001b[0m\u001b[37m\u001b[0m \u001b[1m0s\u001b[0m 2ms/step - accuracy: 0.9565 - auc_16: 0.9892 - loss: 0.0099 - precision_16: 0.9421 - recall_16: 0.9076 - val_accuracy: 0.9554 - val_auc_16: 0.9833 - val_loss: 0.0115 - val_precision_16: 0.9314 - val_recall_16: 0.9171 - learning_rate: 5.0000e-04\n",
      "Epoch 14/25\n",
      "\u001b[1m90/90\u001b[0m \u001b[32m━━━━━━━━━━━━━━━━━━━━\u001b[0m\u001b[37m\u001b[0m \u001b[1m0s\u001b[0m 2ms/step - accuracy: 0.9559 - auc_16: 0.9890 - loss: 0.0097 - precision_16: 0.9362 - recall_16: 0.9164 - val_accuracy: 0.9530 - val_auc_16: 0.9837 - val_loss: 0.0118 - val_precision_16: 0.9540 - val_recall_16: 0.8839 - learning_rate: 5.0000e-04\n",
      "Epoch 15/25\n",
      "\u001b[1m90/90\u001b[0m \u001b[32m━━━━━━━━━━━━━━━━━━━━\u001b[0m\u001b[37m\u001b[0m \u001b[1m0s\u001b[0m 2ms/step - accuracy: 0.9563 - auc_16: 0.9910 - loss: 0.0090 - precision_16: 0.9389 - recall_16: 0.9075 - val_accuracy: 0.9512 - val_auc_16: 0.9831 - val_loss: 0.0117 - val_precision_16: 0.9456 - val_recall_16: 0.8863 - learning_rate: 5.0000e-04\n",
      "Epoch 16/25\n",
      "\u001b[1m90/90\u001b[0m \u001b[32m━━━━━━━━━━━━━━━━━━━━\u001b[0m\u001b[37m\u001b[0m \u001b[1m0s\u001b[0m 2ms/step - accuracy: 0.9628 - auc_16: 0.9910 - loss: 0.0086 - precision_16: 0.9544 - recall_16: 0.9154 - val_accuracy: 0.9554 - val_auc_16: 0.9842 - val_loss: 0.0116 - val_precision_16: 0.9293 - val_recall_16: 0.9194 - learning_rate: 2.5000e-04\n",
      "Epoch 17/25\n",
      "\u001b[1m90/90\u001b[0m \u001b[32m━━━━━━━━━━━━━━━━━━━━\u001b[0m\u001b[37m\u001b[0m \u001b[1m0s\u001b[0m 2ms/step - accuracy: 0.9628 - auc_16: 0.9916 - loss: 0.0087 - precision_16: 0.9533 - recall_16: 0.9222 - val_accuracy: 0.9558 - val_auc_16: 0.9837 - val_loss: 0.0116 - val_precision_16: 0.9499 - val_recall_16: 0.8981 - learning_rate: 2.5000e-04\n",
      "Epoch 18/25\n",
      "\u001b[1m90/90\u001b[0m \u001b[32m━━━━━━━━━━━━━━━━━━━━\u001b[0m\u001b[37m\u001b[0m \u001b[1m0s\u001b[0m 2ms/step - accuracy: 0.9644 - auc_16: 0.9921 - loss: 0.0082 - precision_16: 0.9588 - recall_16: 0.9193 - val_accuracy: 0.9554 - val_auc_16: 0.9840 - val_loss: 0.0115 - val_precision_16: 0.9399 - val_recall_16: 0.9076 - learning_rate: 1.2500e-04\n",
      "Epoch 19/25\n",
      "\u001b[1m90/90\u001b[0m \u001b[32m━━━━━━━━━━━━━━━━━━━━\u001b[0m\u001b[37m\u001b[0m \u001b[1m0s\u001b[0m 2ms/step - accuracy: 0.9648 - auc_16: 0.9927 - loss: 0.0081 - precision_16: 0.9529 - recall_16: 0.9281 - val_accuracy: 0.9551 - val_auc_16: 0.9842 - val_loss: 0.0116 - val_precision_16: 0.9366 - val_recall_16: 0.9100 - learning_rate: 1.2500e-04\n",
      "Epoch 20/25\n",
      "\u001b[1m90/90\u001b[0m \u001b[32m━━━━━━━━━━━━━━━━━━━━\u001b[0m\u001b[37m\u001b[0m \u001b[1m0s\u001b[0m 2ms/step - accuracy: 0.9647 - auc_16: 0.9932 - loss: 0.0077 - precision_16: 0.9460 - recall_16: 0.9359 - val_accuracy: 0.9554 - val_auc_16: 0.9841 - val_loss: 0.0116 - val_precision_16: 0.9420 - val_recall_16: 0.9052 - learning_rate: 6.2500e-05\n",
      "Epoch 21/25\n",
      "\u001b[1m90/90\u001b[0m \u001b[32m━━━━━━━━━━━━━━━━━━━━\u001b[0m\u001b[37m\u001b[0m \u001b[1m0s\u001b[0m 2ms/step - accuracy: 0.9602 - auc_16: 0.9920 - loss: 0.0083 - precision_16: 0.9368 - recall_16: 0.9249 - val_accuracy: 0.9554 - val_auc_16: 0.9842 - val_loss: 0.0115 - val_precision_16: 0.9324 - val_recall_16: 0.9159 - learning_rate: 6.2500e-05\n",
      "Epoch 22/25\n",
      "\u001b[1m90/90\u001b[0m \u001b[32m━━━━━━━━━━━━━━━━━━━━\u001b[0m\u001b[37m\u001b[0m \u001b[1m0s\u001b[0m 2ms/step - accuracy: 0.9673 - auc_16: 0.9945 - loss: 0.0071 - precision_16: 0.9563 - recall_16: 0.9335 - val_accuracy: 0.9551 - val_auc_16: 0.9842 - val_loss: 0.0115 - val_precision_16: 0.9324 - val_recall_16: 0.9147 - learning_rate: 3.1250e-05\n",
      "Epoch 23/25\n",
      "\u001b[1m90/90\u001b[0m \u001b[32m━━━━━━━━━━━━━━━━━━━━\u001b[0m\u001b[37m\u001b[0m \u001b[1m0s\u001b[0m 2ms/step - accuracy: 0.9620 - auc_16: 0.9930 - loss: 0.0078 - precision_16: 0.9421 - recall_16: 0.9270 - val_accuracy: 0.9565 - val_auc_16: 0.9842 - val_loss: 0.0116 - val_precision_16: 0.9369 - val_recall_16: 0.9147 - learning_rate: 3.1250e-05\n",
      "Epoch 24/25\n",
      "\u001b[1m90/90\u001b[0m \u001b[32m━━━━━━━━━━━━━━━━━━━━\u001b[0m\u001b[37m\u001b[0m \u001b[1m0s\u001b[0m 2ms/step - accuracy: 0.9666 - auc_16: 0.9934 - loss: 0.0075 - precision_16: 0.9492 - recall_16: 0.9373 - val_accuracy: 0.9561 - val_auc_16: 0.9842 - val_loss: 0.0116 - val_precision_16: 0.9389 - val_recall_16: 0.9111 - learning_rate: 1.5625e-05\n",
      "Epoch 25/25\n",
      "\u001b[1m90/90\u001b[0m \u001b[32m━━━━━━━━━━━━━━━━━━━━\u001b[0m\u001b[37m\u001b[0m \u001b[1m0s\u001b[0m 2ms/step - accuracy: 0.9692 - auc_16: 0.9939 - loss: 0.0072 - precision_16: 0.9523 - recall_16: 0.9415 - val_accuracy: 0.9551 - val_auc_16: 0.9842 - val_loss: 0.0116 - val_precision_16: 0.9345 - val_recall_16: 0.9123 - learning_rate: 1.5625e-05\n"
     ]
    },
    {
     "data": {
      "text/plain": [
       "<keras.src.callbacks.history.History at 0x3fbf811d0>"
      ]
     },
     "execution_count": 101,
     "metadata": {},
     "output_type": "execute_result"
    }
   ],
   "source": [
    "w2v_modelNN = Sequential([\n",
    "    Input(shape=(X_train_vecs.shape[1],)),  # Should be 100 or whatever you used in Word2Vec\n",
    "    Dense(256, activation='relu'),\n",
    "    Dropout(0.3),\n",
    "    Dense(128,activation=\"relu\"),\n",
    "    Dropout(0.3),\n",
    "    Dense(32,activation=\"relu\"),\n",
    "    BatchNormalization(),\n",
    "    Dense(1, activation='sigmoid')\n",
    "])\n",
    "w2v_modelNN.compile(\n",
    "    optimizer=Adam(learning_rate=5e-4),\n",
    "    loss=focal_loss(gamma=1.7, alpha=0.25),  # Notice the parentheses here\n",
    "    metrics=['accuracy', Precision(), Recall(), AUC()]\n",
    ")\n",
    "early_stopping = EarlyStopping(monitor='val_loss', patience=7, restore_best_weights=True)\n",
    "lr_reduction = ReduceLROnPlateau(monitor='val_loss', factor=0.5, patience=2, min_lr=1e-6)\n",
    "\n",
    "w2v_modelNN.fit(\n",
    "    X_train_vecs, \n",
    "    y_train, \n",
    "    epochs=25, \n",
    "    batch_size=128, \n",
    "    validation_split=0.2, \n",
    "    class_weight=class_weight_dict, \n",
    "    callbacks=[early_stopping, lr_reduction]\n",
    ")\n"
   ]
  },
  {
   "cell_type": "code",
   "execution_count": 102,
   "id": "52b4b69b-423c-4db0-840b-2b034e9aef2e",
   "metadata": {},
   "outputs": [
    {
     "name": "stdout",
     "output_type": "stream",
     "text": [
      "\u001b[1m191/191\u001b[0m \u001b[32m━━━━━━━━━━━━━━━━━━━━\u001b[0m\u001b[37m\u001b[0m \u001b[1m0s\u001b[0m 438us/step\n",
      "Confusion Matrix:\n",
      " [[4123  179]\n",
      " [ 122 1681]]\n",
      "\n",
      "Classification Report:\n",
      "               precision    recall  f1-score   support\n",
      "\n",
      "         Ham       0.97      0.96      0.96      4302\n",
      "        Spam       0.90      0.93      0.92      1803\n",
      "\n",
      "    accuracy                           0.95      6105\n",
      "   macro avg       0.94      0.95      0.94      6105\n",
      "weighted avg       0.95      0.95      0.95      6105\n",
      "\n"
     ]
    },
    {
     "data": {
      "image/png": "[encoded data removed]",
      "text/plain": [
       "<Figure size 800x600 with 1 Axes>"
      ]
     },
     "metadata": {},
     "output_type": "display_data"
    }
   ],
   "source": [
    "#w2v ann model test results\n",
    "\n",
    "import numpy as np\n",
    "\n",
    "# Get raw probability predictions\n",
    "y_pred_prob = w2v_modelNN.predict(X_test_vecs)\n",
    "\n",
    "# Convert probabilities to binary predictions using a threshold\n",
    "threshold = 0.5  # You can tune this\n",
    "y_pred = (y_pred_prob > threshold).astype(int).flatten()\n",
    "\n",
    "from sklearn.metrics import confusion_matrix, classification_report\n",
    "\n",
    "# Confusion matrix\n",
    "cm = confusion_matrix(y_test, y_pred)\n",
    "print(\"Confusion Matrix:\\n\", cm)\n",
    "\n",
    "# Classification report\n",
    "cr = classification_report(y_test, y_pred, target_names=[\"Ham\", \"Spam\"])\n",
    "print(\"\\nClassification Report:\\n\", cr)\n",
    "\n",
    "import matplotlib.pyplot as plt\n",
    "from sklearn.metrics import roc_curve, auc\n",
    "\n",
    "fpr, tpr, _ = roc_curve(y_test, y_pred_prob)\n",
    "roc_auc = auc(fpr, tpr)\n",
    "\n",
    "plt.figure(figsize=(8,6))\n",
    "plt.plot(fpr, tpr, color='darkorange', lw=2, label=f\"ROC curve (AUC = {roc_auc:.2f})\")\n",
    "plt.plot([0, 1], [0, 1], color='navy', lw=2, linestyle='--')\n",
    "plt.xlabel(\"False Positive Rate\")\n",
    "plt.ylabel(\"True Positive Rate\")\n",
    "plt.title(\"Receiver Operating Characteristic (ROC)\")\n",
    "plt.legend(loc=\"lower right\")\n",
    "plt.grid()\n",
    "plt.show()"
   ]
  },
  {
   "cell_type": "code",
   "execution_count": 69,
   "id": "820d802e-5e41-4e56-8d6b-5b305a8b807d",
   "metadata": {},
   "outputs": [],
   "source": [
    "def predict_w2v(text, k=150):\n",
    "    # Ensure input is a single string\n",
    "    if not isinstance(text, str):\n",
    "        raise ValueError(\"Input should be a single string of text.\")\n",
    "    \n",
    "    # Preprocess using your batch-friendly function\n",
    "    cleaned_text = text_preprocess([text])[0]  # returns list; take first element\n",
    "    tokens = cleaned_text.split()\n",
    "\n",
    "    # Compute TF-IDF weighted average Word2Vec vector\n",
    "    vecs = []\n",
    "    for word in tokens:\n",
    "        if word in w2v_model.wv:\n",
    "            weight = idf_dict.get(word, 1.0)\n",
    "            vecs.append(weight * w2v_model.wv[word])\n",
    "    \n",
    "    if vecs:\n",
    "        input_vector = np.mean(vecs, axis=0).reshape(1, -1)\n",
    "    else:\n",
    "        input_vector = np.zeros((1, k))  # fallback if no known tokens\n",
    "\n",
    "    # Predict\n",
    "    probability = w2v_modelNN.predict(input_vector)[0][0]\n",
    "    print(f\"[DEBUG] Probability: {probability:.4f}\")\n",
    "    \n",
    "    predicted_class = (probability > 0.5).astype(int)  # Threshold can be tuned\n",
    "    return \"spam\" if predicted_class == 1 else \"ham\""
   ]
  },
  {
   "cell_type": "code",
   "execution_count": null,
   "id": "9f71ccd8-59f2-448d-90ca-48c2da376cf6",
   "metadata": {},
   "outputs": [],
   "source": []
  },
  {
   "cell_type": "code",
   "execution_count": 70,
   "id": "646ad580-b85a-45f5-828d-0ce065cc2bed",
   "metadata": {},
   "outputs": [
    {
     "name": "stderr",
     "output_type": "stream",
     "text": [
      "1it [00:05,  5.69s/it]"
     ]
    },
    {
     "name": "stdout",
     "output_type": "stream",
     "text": [
      "\u001b[1m1/1\u001b[0m \u001b[32m━━━━━━━━━━━━━━━━━━━━\u001b[0m\u001b[37m\u001b[0m \u001b[1m0s\u001b[0m 14ms/step\n",
      "[DEBUG] Probability: 0.9201\n",
      "Prediction: spam\n"
     ]
    },
    {
     "name": "stderr",
     "output_type": "stream",
     "text": [
      "\n"
     ]
    }
   ],
   "source": [
    "my_text = \"Congrats! You’ve won a free iPhone. Call now!\"\n",
    "result = predict_w2v(my_text)\n",
    "print(\"Prediction:\", result)"
   ]
  },
  {
   "cell_type": "code",
   "execution_count": 71,
   "id": "4bae41a8-150f-4fc2-9e96-7d6131525777",
   "metadata": {},
   "outputs": [
    {
     "name": "stderr",
     "output_type": "stream",
     "text": [
      "1it [00:05,  5.65s/it]"
     ]
    },
    {
     "name": "stdout",
     "output_type": "stream",
     "text": [
      "\u001b[1m1/1\u001b[0m \u001b[32m━━━━━━━━━━━━━━━━━━━━\u001b[0m\u001b[37m\u001b[0m \u001b[1m0s\u001b[0m 14ms/step\n",
      "[DEBUG] Probability: 0.2800\n"
     ]
    },
    {
     "name": "stderr",
     "output_type": "stream",
     "text": [
      "\n"
     ]
    },
    {
     "data": {
      "text/plain": [
       "'ham'"
      ]
     },
     "execution_count": 71,
     "metadata": {},
     "output_type": "execute_result"
    }
   ],
   "source": [
    "my_text = \"Happy birthday! Wishing you an amazing year ahead.\"\n",
    "predict_w2v(my_text)"
   ]
  },
  {
   "cell_type": "code",
   "execution_count": 103,
   "id": "a0a6f4df-14a1-4069-8b9c-4f98564e0005",
   "metadata": {},
   "outputs": [],
   "source": [
    "w2v_modelNN.save('w2v_model.keras')  # Save model as a single keras file\n"
   ]
  },
  {
   "cell_type": "code",
   "execution_count": 56,
   "id": "b4b4cd77",
   "metadata": {},
   "outputs": [
    {
     "name": "stdout",
     "output_type": "stream",
     "text": [
      "[01] Text: \"Win a brand new iPhone! Click here to claim now!\"\n"
     ]
    },
    {
     "name": "stderr",
     "output_type": "stream",
     "text": [
      "48it [00:06,  7.90it/s]"
     ]
    },
    {
     "name": "stdout",
     "output_type": "stream",
     "text": [
      "\u001b[1m2/2\u001b[0m \u001b[32m━━━━━━━━━━━━━━━━━━━━\u001b[0m\u001b[37m\u001b[0m \u001b[1m0s\u001b[0m 11ms/step\n"
     ]
    },
    {
     "name": "stderr",
     "output_type": "stream",
     "text": [
      "\n"
     ]
    },
    {
     "name": "stdout",
     "output_type": "stream",
     "text": [
      "[DEBUG] Probability: 0.1576\n",
      "     → [TF-IDF Model] Prediction: HAM\n"
     ]
    },
    {
     "name": "stderr",
     "output_type": "stream",
     "text": [
      "1it [00:05,  5.57s/it]"
     ]
    },
    {
     "name": "stdout",
     "output_type": "stream",
     "text": [
      "\u001b[1m1/1\u001b[0m \u001b[32m━━━━━━━━━━━━━━━━━━━━\u001b[0m\u001b[37m\u001b[0m \u001b[1m0s\u001b[0m 15ms/step\n"
     ]
    },
    {
     "name": "stderr",
     "output_type": "stream",
     "text": [
      "\n"
     ]
    },
    {
     "name": "stdout",
     "output_type": "stream",
     "text": [
      "[DEBUG] Probability: 0.8760\n",
      "     → [W2V Model]    Prediction: SPAM\n",
      "\n",
      "[02] Text: \"Congratulations! You’ve been selected for a cash p...\"\n"
     ]
    },
    {
     "name": "stderr",
     "output_type": "stream",
     "text": [
      "55it [00:05,  9.78it/s]"
     ]
    },
    {
     "name": "stdout",
     "output_type": "stream",
     "text": [
      "\u001b[1m2/2\u001b[0m \u001b[32m━━━━━━━━━━━━━━━━━━━━\u001b[0m\u001b[37m\u001b[0m \u001b[1m0s\u001b[0m 10ms/step\n"
     ]
    },
    {
     "name": "stderr",
     "output_type": "stream",
     "text": [
      "\n"
     ]
    },
    {
     "name": "stdout",
     "output_type": "stream",
     "text": [
      "[DEBUG] Probability: 0.1576\n",
      "     → [TF-IDF Model] Prediction: HAM\n"
     ]
    },
    {
     "name": "stderr",
     "output_type": "stream",
     "text": [
      "1it [00:05,  5.65s/it]"
     ]
    },
    {
     "name": "stdout",
     "output_type": "stream",
     "text": [
      "\u001b[1m1/1\u001b[0m \u001b[32m━━━━━━━━━━━━━━━━━━━━\u001b[0m\u001b[37m\u001b[0m \u001b[1m0s\u001b[0m 14ms/step\n"
     ]
    },
    {
     "name": "stderr",
     "output_type": "stream",
     "text": [
      "\n"
     ]
    },
    {
     "name": "stdout",
     "output_type": "stream",
     "text": [
      "[DEBUG] Probability: 0.6892\n",
      "     → [W2V Model]    Prediction: SPAM\n",
      "\n",
      "[03] Text: \"URGENT! Your account has been compromised. Verify ...\"\n"
     ]
    },
    {
     "name": "stderr",
     "output_type": "stream",
     "text": [
      "54it [00:05,  9.50it/s]"
     ]
    },
    {
     "name": "stdout",
     "output_type": "stream",
     "text": [
      "\u001b[1m2/2\u001b[0m \u001b[32m━━━━━━━━━━━━━━━━━━━━\u001b[0m\u001b[37m\u001b[0m \u001b[1m0s\u001b[0m 10ms/step\n"
     ]
    },
    {
     "name": "stderr",
     "output_type": "stream",
     "text": [
      "\n"
     ]
    },
    {
     "name": "stdout",
     "output_type": "stream",
     "text": [
      "[DEBUG] Probability: 0.1576\n",
      "     → [TF-IDF Model] Prediction: HAM\n"
     ]
    },
    {
     "name": "stderr",
     "output_type": "stream",
     "text": [
      "0it [00:00, ?it/s]Process Process-226:\n",
      "Process Process-227:\n",
      "Process Process-225:\n",
      "0it [00:04, ?it/s]\n",
      "Traceback (most recent call last):\n",
      "Traceback (most recent call last):\n",
      "Traceback (most recent call last):\n",
      "  File \"/Library/Frameworks/Python.framework/Versions/3.11/lib/python3.11/multiprocessing/process.py\", line 314, in _bootstrap\n",
      "    self.run()\n",
      "  File \"/Library/Frameworks/Python.framework/Versions/3.11/lib/python3.11/multiprocessing/process.py\", line 108, in run\n",
      "    self._target(*self._args, **self._kwargs)\n",
      "  File \"/Library/Frameworks/Python.framework/Versions/3.11/lib/python3.11/site-packages/spacy/language.py\", line 2395, in _apply_pipes\n",
      "    texts_with_ctx = receiver.get()\n",
      "                     ^^^^^^^^^^^^^^\n",
      "  File \"/Library/Frameworks/Python.framework/Versions/3.11/lib/python3.11/multiprocessing/queues.py\", line 103, in get\n",
      "    res = self._recv_bytes()\n",
      "          ^^^^^^^^^^^^^^^^^^\n",
      "  File \"/Library/Frameworks/Python.framework/Versions/3.11/lib/python3.11/multiprocessing/process.py\", line 314, in _bootstrap\n",
      "    self.run()\n",
      "  File \"/Library/Frameworks/Python.framework/Versions/3.11/lib/python3.11/multiprocessing/connection.py\", line 215, in recv_bytes\n",
      "    buf = self._recv_bytes(maxlength)\n",
      "          ^^^^^^^^^^^^^^^^^^^^^^^^^^^\n",
      "  File \"/Library/Frameworks/Python.framework/Versions/3.11/lib/python3.11/multiprocessing/connection.py\", line 413, in _recv_bytes\n",
      "    buf = self._recv(4)\n",
      "          ^^^^^^^^^^^^^\n",
      "  File \"/Library/Frameworks/Python.framework/Versions/3.11/lib/python3.11/multiprocessing/process.py\", line 108, in run\n",
      "    self._target(*self._args, **self._kwargs)\n",
      "  File \"/Library/Frameworks/Python.framework/Versions/3.11/lib/python3.11/site-packages/spacy/language.py\", line 2395, in _apply_pipes\n",
      "    texts_with_ctx = receiver.get()\n",
      "                     ^^^^^^^^^^^^^^\n",
      "  File \"/Library/Frameworks/Python.framework/Versions/3.11/lib/python3.11/multiprocessing/queues.py\", line 103, in get\n",
      "    res = self._recv_bytes()\n",
      "          ^^^^^^^^^^^^^^^^^^\n",
      "  File \"/Library/Frameworks/Python.framework/Versions/3.11/lib/python3.11/multiprocessing/connection.py\", line 378, in _recv\n",
      "    chunk = read(handle, remaining)\n",
      "            ^^^^^^^^^^^^^^^^^^^^^^^\n",
      "  File \"/Library/Frameworks/Python.framework/Versions/3.11/lib/python3.11/multiprocessing/connection.py\", line 215, in recv_bytes\n",
      "    buf = self._recv_bytes(maxlength)\n",
      "          ^^^^^^^^^^^^^^^^^^^^^^^^^^^\n",
      "  File \"/Library/Frameworks/Python.framework/Versions/3.11/lib/python3.11/multiprocessing/connection.py\", line 413, in _recv_bytes\n",
      "    buf = self._recv(4)\n",
      "          ^^^^^^^^^^^^^\n",
      "KeyboardInterrupt\n",
      "  File \"/Library/Frameworks/Python.framework/Versions/3.11/lib/python3.11/multiprocessing/connection.py\", line 378, in _recv\n",
      "    chunk = read(handle, remaining)\n",
      "            ^^^^^^^^^^^^^^^^^^^^^^^\n",
      "KeyboardInterrupt\n",
      "  File \"/Library/Frameworks/Python.framework/Versions/3.11/lib/python3.11/multiprocessing/process.py\", line 314, in _bootstrap\n",
      "    self.run()\n",
      "  File \"/Library/Frameworks/Python.framework/Versions/3.11/lib/python3.11/multiprocessing/process.py\", line 108, in run\n",
      "    self._target(*self._args, **self._kwargs)\n",
      "  File \"/Library/Frameworks/Python.framework/Versions/3.11/lib/python3.11/site-packages/spacy/language.py\", line 2395, in _apply_pipes\n",
      "    texts_with_ctx = receiver.get()\n",
      "                     ^^^^^^^^^^^^^^\n",
      "  File \"/Library/Frameworks/Python.framework/Versions/3.11/lib/python3.11/multiprocessing/queues.py\", line 103, in get\n",
      "    res = self._recv_bytes()\n",
      "          ^^^^^^^^^^^^^^^^^^\n",
      "  File \"/Library/Frameworks/Python.framework/Versions/3.11/lib/python3.11/multiprocessing/connection.py\", line 215, in recv_bytes\n",
      "    buf = self._recv_bytes(maxlength)\n",
      "          ^^^^^^^^^^^^^^^^^^^^^^^^^^^\n",
      "  File \"/Library/Frameworks/Python.framework/Versions/3.11/lib/python3.11/multiprocessing/connection.py\", line 413, in _recv_bytes\n",
      "    buf = self._recv(4)\n",
      "          ^^^^^^^^^^^^^\n",
      "  File \"/Library/Frameworks/Python.framework/Versions/3.11/lib/python3.11/multiprocessing/connection.py\", line 378, in _recv\n",
      "    chunk = read(handle, remaining)\n",
      "            ^^^^^^^^^^^^^^^^^^^^^^^\n",
      "KeyboardInterrupt\n",
      "Traceback (most recent call last):\n",
      "  File \"<string>\", line 1, in <module>\n",
      "  File \"/Library/Frameworks/Python.framework/Versions/3.11/lib/python3.11/multiprocessing/spawn.py\", line 122, in spawn_main\n",
      "    exitcode = _main(fd, parent_sentinel)\n",
      "               ^^^^^^^^^^^^^^^^^^^^^^^^^^\n",
      "  File \"/Library/Frameworks/Python.framework/Versions/3.11/lib/python3.11/multiprocessing/spawn.py\", line 132, in _main\n",
      "    self = reduction.pickle.load(from_parent)\n",
      "           ^^^^^^^^^^^^^^^^^^^^^^^^^^^^^^^^^^\n",
      "  File \"/Library/Frameworks/Python.framework/Versions/3.11/lib/python3.11/site-packages/spacy/__init__.py\", line 6, in <module>\n",
      "    from .errors import setup_default_warnings\n",
      "  File \"/Library/Frameworks/Python.framework/Versions/3.11/lib/python3.11/site-packages/spacy/errors.py\", line 3, in <module>\n",
      "    from .compat import Literal\n",
      "  File \"/Library/Frameworks/Python.framework/Versions/3.11/lib/python3.11/site-packages/spacy/compat.py\", line 4, in <module>\n",
      "    from thinc.util import copy_array\n",
      "  File \"/Library/Frameworks/Python.framework/Versions/3.11/lib/python3.11/site-packages/thinc/__init__.py\", line 5, in <module>\n",
      "    from .config import registry\n",
      "  File \"/Library/Frameworks/Python.framework/Versions/3.11/lib/python3.11/site-packages/thinc/config.py\", line 5, in <module>\n",
      "    from .types import Decorator\n",
      "  File \"/Library/Frameworks/Python.framework/Versions/3.11/lib/python3.11/site-packages/thinc/types.py\", line 25, in <module>\n",
      "    from .compat import cupy, has_cupy\n",
      "  File \"/Library/Frameworks/Python.framework/Versions/3.11/lib/python3.11/site-packages/thinc/compat.py\", line 35, in <module>\n",
      "    import torch\n",
      "  File \"/Library/Frameworks/Python.framework/Versions/3.11/lib/python3.11/site-packages/torch/__init__.py\", line 235, in <module>\n",
      "    from torch._C import *  # noqa: F403\n",
      "    ^^^^^^^^^^^^^^^^^^^^^^\n",
      "KeyboardInterrupt\n"
     ]
    },
    {
     "ename": "KeyboardInterrupt",
     "evalue": "",
     "output_type": "error",
     "traceback": [
      "\u001b[0;31m---------------------------------------------------------------------------\u001b[0m",
      "\u001b[0;31mKeyboardInterrupt\u001b[0m                         Traceback (most recent call last)",
      "Cell \u001b[0;32mIn[56], line 36\u001b[0m\n\u001b[1;32m     33\u001b[0m     \u001b[38;5;28mprint\u001b[39m(\u001b[38;5;124mf\u001b[39m\u001b[38;5;124m\"\u001b[39m\u001b[38;5;124m     → [TF-IDF Model] ERROR: \u001b[39m\u001b[38;5;132;01m{\u001b[39;00me\u001b[38;5;132;01m}\u001b[39;00m\u001b[38;5;124m\"\u001b[39m)\n\u001b[1;32m     35\u001b[0m \u001b[38;5;28;01mtry\u001b[39;00m:\n\u001b[0;32m---> 36\u001b[0m     result \u001b[38;5;241m=\u001b[39m \u001b[43mpredict_w2v\u001b[49m\u001b[43m(\u001b[49m\u001b[43mtext\u001b[49m\u001b[43m)\u001b[49m\n\u001b[1;32m     37\u001b[0m     \u001b[38;5;28mprint\u001b[39m(\u001b[38;5;124mf\u001b[39m\u001b[38;5;124m\"\u001b[39m\u001b[38;5;124m     → [W2V Model]    Prediction: \u001b[39m\u001b[38;5;132;01m{\u001b[39;00mresult\u001b[38;5;241m.\u001b[39mupper()\u001b[38;5;132;01m}\u001b[39;00m\u001b[38;5;130;01m\\n\u001b[39;00m\u001b[38;5;124m\"\u001b[39m)\n\u001b[1;32m     38\u001b[0m \u001b[38;5;28;01mexcept\u001b[39;00m \u001b[38;5;167;01mException\u001b[39;00m \u001b[38;5;28;01mas\u001b[39;00m e:\n",
      "Cell \u001b[0;32mIn[44], line 7\u001b[0m, in \u001b[0;36mpredict_w2v\u001b[0;34m(text, k)\u001b[0m\n\u001b[1;32m      4\u001b[0m     \u001b[38;5;28;01mraise\u001b[39;00m \u001b[38;5;167;01mValueError\u001b[39;00m(\u001b[38;5;124m\"\u001b[39m\u001b[38;5;124mInput should be a single string of text.\u001b[39m\u001b[38;5;124m\"\u001b[39m)\n\u001b[1;32m      6\u001b[0m \u001b[38;5;66;03m# Preprocess using your batch-friendly function\u001b[39;00m\n\u001b[0;32m----> 7\u001b[0m cleaned_text \u001b[38;5;241m=\u001b[39m \u001b[43mtext_preprocess\u001b[49m\u001b[43m(\u001b[49m\u001b[43m[\u001b[49m\u001b[43mtext\u001b[49m\u001b[43m]\u001b[49m\u001b[43m)\u001b[49m[\u001b[38;5;241m0\u001b[39m]  \u001b[38;5;66;03m# returns list; take first element\u001b[39;00m\n\u001b[1;32m      8\u001b[0m tokens \u001b[38;5;241m=\u001b[39m cleaned_text\u001b[38;5;241m.\u001b[39msplit()\n\u001b[1;32m     10\u001b[0m \u001b[38;5;66;03m# Compute TF-IDF weighted average Word2Vec vector\u001b[39;00m\n",
      "Cell \u001b[0;32mIn[9], line 13\u001b[0m, in \u001b[0;36mtext_preprocess\u001b[0;34m(texts, batch_size, n_process)\u001b[0m\n\u001b[1;32m     10\u001b[0m \u001b[38;5;28;01mdef\u001b[39;00m \u001b[38;5;21mtext_preprocess\u001b[39m(texts, batch_size\u001b[38;5;241m=\u001b[39m\u001b[38;5;241m1000\u001b[39m, n_process\u001b[38;5;241m=\u001b[39m\u001b[38;5;241m4\u001b[39m):\n\u001b[1;32m     11\u001b[0m     cleaned \u001b[38;5;241m=\u001b[39m []\n\u001b[0;32m---> 13\u001b[0m \u001b[43m    \u001b[49m\u001b[38;5;28;43;01mfor\u001b[39;49;00m\u001b[43m \u001b[49m\u001b[43mdoc\u001b[49m\u001b[43m \u001b[49m\u001b[38;5;129;43;01min\u001b[39;49;00m\u001b[43m \u001b[49m\u001b[43mtqdm\u001b[49m\u001b[43m(\u001b[49m\u001b[43mnlp\u001b[49m\u001b[38;5;241;43m.\u001b[39;49m\u001b[43mpipe\u001b[49m\u001b[43m(\u001b[49m\u001b[43mtexts\u001b[49m\u001b[43m,\u001b[49m\u001b[43m \u001b[49m\u001b[43mbatch_size\u001b[49m\u001b[38;5;241;43m=\u001b[39;49m\u001b[43mbatch_size\u001b[49m\u001b[43m,\u001b[49m\u001b[43m \u001b[49m\u001b[43mn_process\u001b[49m\u001b[38;5;241;43m=\u001b[39;49m\u001b[43mn_process\u001b[49m\u001b[43m)\u001b[49m\u001b[43m)\u001b[49m\u001b[43m:\u001b[49m\n\u001b[1;32m     14\u001b[0m \u001b[43m        \u001b[49m\u001b[43mtokens\u001b[49m\u001b[43m \u001b[49m\u001b[38;5;241;43m=\u001b[39;49m\u001b[43m \u001b[49m\u001b[43m[\u001b[49m\n\u001b[1;32m     15\u001b[0m \u001b[43m            \u001b[49m\u001b[43mtoken\u001b[49m\u001b[38;5;241;43m.\u001b[39;49m\u001b[43mlemma_\u001b[49m\u001b[38;5;241;43m.\u001b[39;49m\u001b[43mlower\u001b[49m\u001b[43m(\u001b[49m\u001b[43m)\u001b[49m\u001b[43m \u001b[49m\u001b[38;5;28;43;01mfor\u001b[39;49;00m\u001b[43m \u001b[49m\u001b[43mtoken\u001b[49m\u001b[43m \u001b[49m\u001b[38;5;129;43;01min\u001b[39;49;00m\u001b[43m \u001b[49m\u001b[43mdoc\u001b[49m\n\u001b[1;32m     16\u001b[0m \u001b[43m            \u001b[49m\u001b[38;5;28;43;01mif\u001b[39;49;00m\u001b[43m \u001b[49m\u001b[43mtoken\u001b[49m\u001b[38;5;241;43m.\u001b[39;49m\u001b[43mlemma_\u001b[49m\u001b[43m \u001b[49m\u001b[38;5;241;43m!=\u001b[39;49m\u001b[43m \u001b[49m\u001b[38;5;124;43m\"\u001b[39;49m\u001b[38;5;124;43m-PRON-\u001b[39;49m\u001b[38;5;124;43m\"\u001b[39;49m\n\u001b[0;32m   (...)\u001b[0m\n\u001b[1;32m     19\u001b[0m \u001b[43m            \u001b[49m\u001b[38;5;129;43;01mand\u001b[39;49;00m\u001b[43m \u001b[49m\u001b[38;5;129;43;01mnot\u001b[39;49;00m\u001b[43m \u001b[49m\u001b[43mtoken\u001b[49m\u001b[38;5;241;43m.\u001b[39;49m\u001b[43mis_punct\u001b[49m\n\u001b[1;32m     20\u001b[0m \u001b[43m        \u001b[49m\u001b[43m]\u001b[49m\n\u001b[1;32m     21\u001b[0m \u001b[43m        \u001b[49m\u001b[43mcleaned\u001b[49m\u001b[38;5;241;43m.\u001b[39;49m\u001b[43mappend\u001b[49m\u001b[43m(\u001b[49m\u001b[38;5;124;43m\"\u001b[39;49m\u001b[38;5;124;43m \u001b[39;49m\u001b[38;5;124;43m\"\u001b[39;49m\u001b[38;5;241;43m.\u001b[39;49m\u001b[43mjoin\u001b[49m\u001b[43m(\u001b[49m\u001b[43mtokens\u001b[49m\u001b[43m)\u001b[49m\u001b[43m)\u001b[49m\n",
      "File \u001b[0;32m/Library/Frameworks/Python.framework/Versions/3.11/lib/python3.11/site-packages/tqdm/std.py:1181\u001b[0m, in \u001b[0;36mtqdm.__iter__\u001b[0;34m(self)\u001b[0m\n\u001b[1;32m   1178\u001b[0m time \u001b[38;5;241m=\u001b[39m \u001b[38;5;28mself\u001b[39m\u001b[38;5;241m.\u001b[39m_time\n\u001b[1;32m   1180\u001b[0m \u001b[38;5;28;01mtry\u001b[39;00m:\n\u001b[0;32m-> 1181\u001b[0m \u001b[43m    \u001b[49m\u001b[38;5;28;43;01mfor\u001b[39;49;00m\u001b[43m \u001b[49m\u001b[43mobj\u001b[49m\u001b[43m \u001b[49m\u001b[38;5;129;43;01min\u001b[39;49;00m\u001b[43m \u001b[49m\u001b[43miterable\u001b[49m\u001b[43m:\u001b[49m\n\u001b[1;32m   1182\u001b[0m \u001b[43m        \u001b[49m\u001b[38;5;28;43;01myield\u001b[39;49;00m\u001b[43m \u001b[49m\u001b[43mobj\u001b[49m\n\u001b[1;32m   1183\u001b[0m \u001b[43m        \u001b[49m\u001b[38;5;66;43;03m# Update and possibly print the progressbar.\u001b[39;49;00m\n\u001b[1;32m   1184\u001b[0m \u001b[43m        \u001b[49m\u001b[38;5;66;43;03m# Note: does not call self.update(1) for speed optimisation.\u001b[39;49;00m\n",
      "File \u001b[0;32m/Library/Frameworks/Python.framework/Versions/3.11/lib/python3.11/site-packages/spacy/language.py:1621\u001b[0m, in \u001b[0;36mLanguage.pipe\u001b[0;34m(self, texts, as_tuples, batch_size, disable, component_cfg, n_process)\u001b[0m\n\u001b[1;32m   1619\u001b[0m     \u001b[38;5;28;01mfor\u001b[39;00m pipe \u001b[38;5;129;01min\u001b[39;00m pipes:\n\u001b[1;32m   1620\u001b[0m         docs \u001b[38;5;241m=\u001b[39m pipe(docs)\n\u001b[0;32m-> 1621\u001b[0m \u001b[43m\u001b[49m\u001b[38;5;28;43;01mfor\u001b[39;49;00m\u001b[43m \u001b[49m\u001b[43mdoc\u001b[49m\u001b[43m \u001b[49m\u001b[38;5;129;43;01min\u001b[39;49;00m\u001b[43m \u001b[49m\u001b[43mdocs\u001b[49m\u001b[43m:\u001b[49m\n\u001b[1;32m   1622\u001b[0m \u001b[43m    \u001b[49m\u001b[38;5;28;43;01myield\u001b[39;49;00m\u001b[43m \u001b[49m\u001b[43mdoc\u001b[49m\n",
      "File \u001b[0;32m/Library/Frameworks/Python.framework/Versions/3.11/lib/python3.11/site-packages/spacy/language.py:1687\u001b[0m, in \u001b[0;36mLanguage._multiprocessing_pipe\u001b[0;34m(self, texts, pipes, n_process, batch_size)\u001b[0m\n\u001b[1;32m   1673\u001b[0m procs \u001b[38;5;241m=\u001b[39m [\n\u001b[1;32m   1674\u001b[0m     mp\u001b[38;5;241m.\u001b[39mProcess(\n\u001b[1;32m   1675\u001b[0m         target\u001b[38;5;241m=\u001b[39m_apply_pipes,\n\u001b[0;32m   (...)\u001b[0m\n\u001b[1;32m   1684\u001b[0m     \u001b[38;5;28;01mfor\u001b[39;00m rch, sch \u001b[38;5;129;01min\u001b[39;00m \u001b[38;5;28mzip\u001b[39m(texts_q, bytedocs_send_ch)\n\u001b[1;32m   1685\u001b[0m ]\n\u001b[1;32m   1686\u001b[0m \u001b[38;5;28;01mfor\u001b[39;00m proc \u001b[38;5;129;01min\u001b[39;00m procs:\n\u001b[0;32m-> 1687\u001b[0m     \u001b[43mproc\u001b[49m\u001b[38;5;241;43m.\u001b[39;49m\u001b[43mstart\u001b[49m\u001b[43m(\u001b[49m\u001b[43m)\u001b[49m\n\u001b[1;32m   1689\u001b[0m \u001b[38;5;66;03m# Close writing-end of channels. This is needed to avoid that reading\u001b[39;00m\n\u001b[1;32m   1690\u001b[0m \u001b[38;5;66;03m# from the channel blocks indefinitely when the worker closes the\u001b[39;00m\n\u001b[1;32m   1691\u001b[0m \u001b[38;5;66;03m# channel.\u001b[39;00m\n\u001b[1;32m   1692\u001b[0m \u001b[38;5;28;01mfor\u001b[39;00m tx \u001b[38;5;129;01min\u001b[39;00m bytedocs_send_ch:\n",
      "File \u001b[0;32m/Library/Frameworks/Python.framework/Versions/3.11/lib/python3.11/multiprocessing/process.py:121\u001b[0m, in \u001b[0;36mBaseProcess.start\u001b[0;34m(self)\u001b[0m\n\u001b[1;32m    118\u001b[0m \u001b[38;5;28;01massert\u001b[39;00m \u001b[38;5;129;01mnot\u001b[39;00m _current_process\u001b[38;5;241m.\u001b[39m_config\u001b[38;5;241m.\u001b[39mget(\u001b[38;5;124m'\u001b[39m\u001b[38;5;124mdaemon\u001b[39m\u001b[38;5;124m'\u001b[39m), \\\n\u001b[1;32m    119\u001b[0m        \u001b[38;5;124m'\u001b[39m\u001b[38;5;124mdaemonic processes are not allowed to have children\u001b[39m\u001b[38;5;124m'\u001b[39m\n\u001b[1;32m    120\u001b[0m _cleanup()\n\u001b[0;32m--> 121\u001b[0m \u001b[38;5;28mself\u001b[39m\u001b[38;5;241m.\u001b[39m_popen \u001b[38;5;241m=\u001b[39m \u001b[38;5;28;43mself\u001b[39;49m\u001b[38;5;241;43m.\u001b[39;49m\u001b[43m_Popen\u001b[49m\u001b[43m(\u001b[49m\u001b[38;5;28;43mself\u001b[39;49m\u001b[43m)\u001b[49m\n\u001b[1;32m    122\u001b[0m \u001b[38;5;28mself\u001b[39m\u001b[38;5;241m.\u001b[39m_sentinel \u001b[38;5;241m=\u001b[39m \u001b[38;5;28mself\u001b[39m\u001b[38;5;241m.\u001b[39m_popen\u001b[38;5;241m.\u001b[39msentinel\n\u001b[1;32m    123\u001b[0m \u001b[38;5;66;03m# Avoid a refcycle if the target function holds an indirect\u001b[39;00m\n\u001b[1;32m    124\u001b[0m \u001b[38;5;66;03m# reference to the process object (see bpo-30775)\u001b[39;00m\n",
      "File \u001b[0;32m/Library/Frameworks/Python.framework/Versions/3.11/lib/python3.11/multiprocessing/context.py:224\u001b[0m, in \u001b[0;36mProcess._Popen\u001b[0;34m(process_obj)\u001b[0m\n\u001b[1;32m    222\u001b[0m \u001b[38;5;129m@staticmethod\u001b[39m\n\u001b[1;32m    223\u001b[0m \u001b[38;5;28;01mdef\u001b[39;00m \u001b[38;5;21m_Popen\u001b[39m(process_obj):\n\u001b[0;32m--> 224\u001b[0m     \u001b[38;5;28;01mreturn\u001b[39;00m \u001b[43m_default_context\u001b[49m\u001b[38;5;241;43m.\u001b[39;49m\u001b[43mget_context\u001b[49m\u001b[43m(\u001b[49m\u001b[43m)\u001b[49m\u001b[38;5;241;43m.\u001b[39;49m\u001b[43mProcess\u001b[49m\u001b[38;5;241;43m.\u001b[39;49m\u001b[43m_Popen\u001b[49m\u001b[43m(\u001b[49m\u001b[43mprocess_obj\u001b[49m\u001b[43m)\u001b[49m\n",
      "File \u001b[0;32m/Library/Frameworks/Python.framework/Versions/3.11/lib/python3.11/multiprocessing/context.py:288\u001b[0m, in \u001b[0;36mSpawnProcess._Popen\u001b[0;34m(process_obj)\u001b[0m\n\u001b[1;32m    285\u001b[0m \u001b[38;5;129m@staticmethod\u001b[39m\n\u001b[1;32m    286\u001b[0m \u001b[38;5;28;01mdef\u001b[39;00m \u001b[38;5;21m_Popen\u001b[39m(process_obj):\n\u001b[1;32m    287\u001b[0m     \u001b[38;5;28;01mfrom\u001b[39;00m \u001b[38;5;21;01m.\u001b[39;00m\u001b[38;5;21;01mpopen_spawn_posix\u001b[39;00m \u001b[38;5;28;01mimport\u001b[39;00m Popen\n\u001b[0;32m--> 288\u001b[0m     \u001b[38;5;28;01mreturn\u001b[39;00m \u001b[43mPopen\u001b[49m\u001b[43m(\u001b[49m\u001b[43mprocess_obj\u001b[49m\u001b[43m)\u001b[49m\n",
      "File \u001b[0;32m/Library/Frameworks/Python.framework/Versions/3.11/lib/python3.11/multiprocessing/popen_spawn_posix.py:32\u001b[0m, in \u001b[0;36mPopen.__init__\u001b[0;34m(self, process_obj)\u001b[0m\n\u001b[1;32m     30\u001b[0m \u001b[38;5;28;01mdef\u001b[39;00m \u001b[38;5;21m__init__\u001b[39m(\u001b[38;5;28mself\u001b[39m, process_obj):\n\u001b[1;32m     31\u001b[0m     \u001b[38;5;28mself\u001b[39m\u001b[38;5;241m.\u001b[39m_fds \u001b[38;5;241m=\u001b[39m []\n\u001b[0;32m---> 32\u001b[0m     \u001b[38;5;28;43msuper\u001b[39;49m\u001b[43m(\u001b[49m\u001b[43m)\u001b[49m\u001b[38;5;241;43m.\u001b[39;49m\u001b[38;5;21;43m__init__\u001b[39;49m\u001b[43m(\u001b[49m\u001b[43mprocess_obj\u001b[49m\u001b[43m)\u001b[49m\n",
      "File \u001b[0;32m/Library/Frameworks/Python.framework/Versions/3.11/lib/python3.11/multiprocessing/popen_fork.py:19\u001b[0m, in \u001b[0;36mPopen.__init__\u001b[0;34m(self, process_obj)\u001b[0m\n\u001b[1;32m     17\u001b[0m \u001b[38;5;28mself\u001b[39m\u001b[38;5;241m.\u001b[39mreturncode \u001b[38;5;241m=\u001b[39m \u001b[38;5;28;01mNone\u001b[39;00m\n\u001b[1;32m     18\u001b[0m \u001b[38;5;28mself\u001b[39m\u001b[38;5;241m.\u001b[39mfinalizer \u001b[38;5;241m=\u001b[39m \u001b[38;5;28;01mNone\u001b[39;00m\n\u001b[0;32m---> 19\u001b[0m \u001b[38;5;28;43mself\u001b[39;49m\u001b[38;5;241;43m.\u001b[39;49m\u001b[43m_launch\u001b[49m\u001b[43m(\u001b[49m\u001b[43mprocess_obj\u001b[49m\u001b[43m)\u001b[49m\n",
      "File \u001b[0;32m/Library/Frameworks/Python.framework/Versions/3.11/lib/python3.11/multiprocessing/popen_spawn_posix.py:62\u001b[0m, in \u001b[0;36mPopen._launch\u001b[0;34m(self, process_obj)\u001b[0m\n\u001b[1;32m     60\u001b[0m     \u001b[38;5;28mself\u001b[39m\u001b[38;5;241m.\u001b[39msentinel \u001b[38;5;241m=\u001b[39m parent_r\n\u001b[1;32m     61\u001b[0m     \u001b[38;5;28;01mwith\u001b[39;00m \u001b[38;5;28mopen\u001b[39m(parent_w, \u001b[38;5;124m'\u001b[39m\u001b[38;5;124mwb\u001b[39m\u001b[38;5;124m'\u001b[39m, closefd\u001b[38;5;241m=\u001b[39m\u001b[38;5;28;01mFalse\u001b[39;00m) \u001b[38;5;28;01mas\u001b[39;00m f:\n\u001b[0;32m---> 62\u001b[0m         f\u001b[38;5;241m.\u001b[39mwrite(fp\u001b[38;5;241m.\u001b[39mgetbuffer())\n\u001b[1;32m     63\u001b[0m \u001b[38;5;28;01mfinally\u001b[39;00m:\n\u001b[1;32m     64\u001b[0m     fds_to_close \u001b[38;5;241m=\u001b[39m []\n",
      "\u001b[0;31mKeyboardInterrupt\u001b[0m: "
     ]
    }
   ],
   "source": [
    "texts = [\n",
    "    \n",
    "    # HAM\n",
    "    \"Hey, are we still meeting for lunch today?\",\n",
    "    \"Don't forget to bring your laptop to the meeting.\",\n",
    "    \"Can you send me the notes from class?\",\n",
    "    \"I’ll be home late tonight, save me some food.\",\n",
    "    \"Congrats on your new job!\",\n",
    "    \"Call me when you're free.\",\n",
    "    \"Let’s catch up this weekend!\",\n",
    "    \"The movie was amazing, you have to watch it!\",\n",
    "    \"Happy anniversary to you both!\",\n",
    "    \"Mom asked if you’re coming for dinner tonight.\",\n",
    "    # SPAM\n",
    "    \"Win a brand new iPhone! Click here to claim now!\",\n",
    "    \"Congratulations! You’ve been selected for a cash prize.\",\n",
    "    \"URGENT! Your account has been compromised. Verify now.\",\n",
    "    \"Lowest mortgage rates available now. Don’t miss out!\",\n",
    "    \"Act now and get 50% off all supplements!\",\n",
    "    \"Limited time offer! Get rich working from home!\",\n",
    "    \"You've won a lottery worth $1,000,000!\",\n",
    "    \"Exclusive deal just for you. Buy now!\",\n",
    "    \"FREE gift card with every purchase over $50.\",\n",
    "    \"Earn money fast with this simple trick!\",\n",
    "    \"Your credit score just went up. Check now for free.\",\n",
    "    \"Claim your free reward before it expires!\",\n",
    "    \"This is not a scam! Click to receive your prize.\",\n",
    "    \"You have been chosen for a free trial. Confirm now.\",\n",
    "    \"Unlock premium features today with zero cost!\",\n",
    "    \"Double your income from home starting today!\",\n",
    "    \"Risk-free investment opportunity. Join today!\",\n",
    "    \"Hot singles in your area want to meet you!\",\n",
    "    \"Instant approval for your personal loan!\",\n",
    "    \"Get paid to take surveys from home.\",\n",
    "]\n",
    "for idx, text in enumerate(texts):\n",
    "    print(f\"[{idx+1:02d}] Text: \\\"{text[:50]}{'...' if len(text)>50 else ''}\\\"\")\n",
    "\n",
    "    try:\n",
    "        result = predict_w2v(text)\n",
    "        print(f\"     → [W2V Model]    Prediction: {result.upper()}\\n\")\n",
    "    except Exception as e:\n",
    "        print(f\"     → [W2V Model]    ERROR: {e}\\n\")"
   ]
  },
  {
   "cell_type": "code",
   "execution_count": null,
   "id": "e87afc68-ea3b-4fc5-bfa5-dd719f800fa1",
   "metadata": {},
   "outputs": [],
   "source": [
    "# Add these imports at the beginning of your notebook\n",
    "from sklearn.naive_bayes import MultinomialNB\n",
    "from sklearn.metrics import classification_report, accuracy_score\n",
    "\n",
    "# --- After your TF-IDF vectorization and train-test split ---\n",
    "\n",
    "# Initialize and train the Multinomial Naive Bayes classifier\n",
    "mnb_classifier = MultinomialNB()\n",
    "mnb_classifier.fit(X_dense, y_train)\n",
    "\n",
    "# Make predictions on the test set\n",
    "y_pred_mnb = mnb_classifier.predict(X_test_enc)\n",
    "\n",
    "# Evaluate the performance\n",
    "accuracy_mnb = accuracy_score(y_test, y_pred_mnb)\n",
    "print(f\"Multinomial Naive Bayes Accuracy: {accuracy_mnb:.4f}\")\n",
    "\n",
    "print(\"Multinomial Naive Bayes Classification Report:\")\n",
    "print(classification_report(y_test, y_pred_mnb))"
   ]
  },
  {
   "cell_type": "code",
   "execution_count": null,
   "id": "2622a1c1-597c-44e6-9770-9361eeadd407",
   "metadata": {},
   "outputs": [],
   "source": [
    "import pandas as pd\n",
    "from sklearn.feature_extraction.text import TfidfVectorizer\n",
    "from sklearn.naive_bayes import MultinomialNB\n",
    "from sklearn.metrics import classification_report\n",
    "\n",
    "# Replace with your actual 30 ham and 30 spam samples\n",
    "ham_sample = [\n",
    "    \"Hey, are we still on for dinner tonight?\",\n",
    "    \"Don't forget to bring your notebook to class.\",\n",
    "    \"Happy Birthday! Hope you have a fantastic day 🎉\",\n",
    "    \"I'll call you once I'm done with the meeting.\",\n",
    "    \"Just parked, where are you?\",\n",
    "    \"Can you grab some bread and eggs on your way back?\",\n",
    "    \"Let’s catch up over coffee sometime next week!\",\n",
    "    \"The lecture notes are on the group drive.\",\n",
    "    \"Thanks again for your help yesterday!\",\n",
    "    \"I’ve sent the email to the professor.\",\n",
    "    \"Mom says hi and wants to know when you’re visiting.\",\n",
    "    \"I’ll be working from home tomorrow.\",\n",
    "    \"Do you want to go for a walk later?\",\n",
    "    \"Your parcel was delivered this morning.\",\n",
    "    \"I’m heading to the gym now, see you later.\",\n",
    "    \"Let me know if you need a ride.\",\n",
    "    \"Are you joining the Zoom call?\",\n",
    "    \"Just watched the movie you recommended. Loved it!\",\n",
    "    \"I'll be 10 minutes late, sorry!\",\n",
    "    \"That place we ate at last week was amazing.\",\n",
    "    \"Don't worry, I got the tickets!\",\n",
    "    \"Do you still have my charger?\",\n",
    "    \"Your appointment is scheduled for 4pm tomorrow.\",\n",
    "    \"Can we reschedule the meeting to Thursday?\",\n",
    "    \"Make sure to stay hydrated today, it's hot outside!\",\n",
    "    \"I’ve uploaded the project files.\",\n",
    "    \"We’ll meet outside the bookstore at 2pm.\",\n",
    "    \"Thanks for covering for me yesterday!\",\n",
    "    \"I’ll swing by around noon.\",\n",
    "    \"Just checking in — how are you feeling today?\"\n",
    "]\n",
    "\n",
    "spam_sample = [\n",
    "    \"Congratulations! You've won a $1000 Walmart gift card. Go to http://bit.ly/123 to claim now.\",\n",
    "    \"URGENT! Your account has been suspended. Click here to reactivate: http://fakebank.com/login\",\n",
    "    \"Win cash now!!! Text 'WIN' to 90099.\",\n",
    "    \"You have been selected for a free cruise to the Bahamas! Call now!\",\n",
    "    \"This is not a joke! You've won a brand new iPhone. Click here to claim!\",\n",
    "    \"Get Viagra now at half price. Discreet shipping available!\",\n",
    "    \"Your loan is approved! No credit check required. Apply today.\",\n",
    "    \"You’ve been chosen for a limited time offer. Claim your prize now!\",\n",
    "    \"Get rich working from home. Make $5000/week with no experience!\",\n",
    "    \"Final notice: Your car warranty is expiring. Renew today!\",\n",
    "    \"FREE entry into our £1000 cash prize draw. Text 'CASH' to 82345 now.\",\n",
    "    \"Act now! Limited spots remaining for our investment opportunity.\",\n",
    "    \"Earn $300 per day from your phone. No experience needed.\",\n",
    "    \"Exclusive deal: Buy one, get five free. Only for today!\",\n",
    "    \"This is your last chance to claim your reward.\",\n",
    "    \"You’ve been pre-approved for a platinum credit card.\",\n",
    "    \"Unlock access to thousands of singles in your area.\",\n",
    "    \"Limited-time deal: Weight loss pills 90% off!\",\n",
    "    \"Important: Your PayPal has been flagged. Verify immediately.\",\n",
    "    \"Guaranteed winner! Click to spin the wheel of fortune.\",\n",
    "    \"Alert: Suspicious activity on your bank account. Log in now.\",\n",
    "    \"You are selected for an elite business mentorship program.\",\n",
    "    \"Special offer! Unlimited data plan at half the price.\",\n",
    "    \"Your subscription is ending. Renew now to avoid interruption.\",\n",
    "    \"Meet your perfect match today. Sign up free!\",\n",
    "    \"Don't miss out on this once-in-a-lifetime opportunity!\",\n",
    "    \"Hot singles are waiting for you. Join now!\",\n",
    "    \"You're a lucky winner in our latest sweepstakes!\",\n",
    "    \"Earn cash back every time you spend. Join our rewards club!\",\n",
    "    \"Start your new career today! Get certified online fast.\"\n",
    "]\n",
    "\n",
    "\n",
    "X_test_cleaned = text_preprocess(ham_sample + spam_sample)\n",
    "\n",
    "# True labels (0 for ham, 1 for spam)\n",
    "y_true_sample = [0]*len(ham_sample) + [1]*len(spam_sample)\n",
    "\n",
    "# **Crucially, transform the *new* test data using the *fitted* vectorizer**\n",
    "X_test_sample_tfidf = pipeline.transform(X_test_cleaned)\n",
    "\n",
    "# Make predictions using the Multinomial Naive Bayes model\n",
    "y_pred_mnb_sample = mnb_classifier.predict(X_test_sample_tfidf)\n",
    "\n",
    "# Classification report for the Naive Bayes model on the sample data\n",
    "print(\"Classification Report for Multinomial Naive Bayes (Small Sample):\")\n",
    "print(classification_report(y_true_sample, y_pred_mnb_sample, target_names=[\"ham\", \"spam\"]))"
   ]
  },
  {
   "cell_type": "code",
   "execution_count": 73,
   "id": "e5a0df91-dab1-4628-97fd-ec3a23214e2d",
   "metadata": {},
   "outputs": [],
   "source": [
    "import pickle\n",
    "\n",
    "# Save the IDF dictionary to a file\n",
    "with open('idf_dict.pkl', 'wb') as f:\n",
    "    pickle.dump(idf_dict, f)"
   ]
  },
  {
   "cell_type": "code",
   "execution_count": null,
   "id": "b5a67b47-0763-46b0-98ca-f0d3ee3dafc4",
   "metadata": {},
   "outputs": [],
   "source": []
  }
 ],
 "metadata": {
  "kernelspec": {
   "display_name": "Python 3 (ipykernel)",
   "language": "python",
   "name": "python3"
  },
  "language_info": {
   "codemirror_mode": {
    "name": "ipython",
    "version": 3
   },
   "file_extension": ".py",
   "mimetype": "text/x-python",
   "name": "python",
   "nbconvert_exporter": "python",
   "pygments_lexer": "ipython3",
   "version": "3.11.5"
  }
 },
 "nbformat": 4,
 "nbformat_minor": 5
}
